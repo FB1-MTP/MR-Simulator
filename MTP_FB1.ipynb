{
  "cells": [
    {
      "cell_type": "markdown",
      "metadata": {
        "id": "view-in-github",
        "colab_type": "text"
      },
      "source": [
        "<a href=\"https://colab.research.google.com/github/FB1-MTP/MR-Simulator/blob/main/MTP_FB1.ipynb\" target=\"_parent\"><img src=\"https://colab.research.google.com/assets/colab-badge.svg\" alt=\"Open In Colab\"/></a>"
      ]
    },
    {
      "cell_type": "markdown",
      "source": [
        "### **MR simulator to create tailored datasets of MR Images for AI Algorithm Development**"
      ],
      "metadata": {
        "id": "176phcOiXlgK"
      }
    },
    {
      "cell_type": "markdown",
      "source": [
        "Load libraries and Declare Constants"
      ],
      "metadata": {
        "id": "CKU5CiaHX0kn"
      }
    },
    {
      "cell_type": "code",
      "execution_count": null,
      "metadata": {
        "colab": {
          "base_uri": "https://localhost:8080/"
        },
        "id": "OP2wiDB26vPe",
        "outputId": "9550e4e6-b0cb-4aa4-8fbd-888a6f48bdd5"
      },
      "outputs": [
        {
          "output_type": "stream",
          "name": "stdout",
          "text": [
            "0.11682242990654206\n"
          ]
        }
      ],
      "source": [
        "import numpy as np\n",
        "import math\n",
        "import matplotlib.pyplot as plt\n",
        "Gamma= 4.28E7 #Hz/Tesla\n",
        "N_W= 6.69E28\n",
        "plank_c= 6.626E-34\n",
        "boltz_c= 1.38E-23\n",
        "temp_sample= 293.0\n",
        "spin_quant_no= 0.5\n",
        "B0=1\n",
        "csf_params=[1, 4.5, 2.2]\n",
        "gm_params= [0.8, 0.95, 0.1]\n",
        "wm_params= [0.65, 0.1, 10]\n",
        "newparams= [0, 0.05, 1]\n",
        "##user \n",
        "\n",
        "\n",
        "\n",
        "#formulae used: Acquisition time= 1/gamma*gradient \n",
        "#refer page 116 (Picture to proton)\n",
        "#################################################USER DEFINED PARAMETERS#################################\n",
        "\n",
        "fov= 0.011\n",
        "Vs = fov**3\n",
        "NOP=11\n",
        "Acq_bdw= 10E3\n",
        "flip_angle = 90\n",
        "R = 0.5\n",
        "B1xy = 1 #Tesla\n",
        "\n",
        "##user defined parameters end\n",
        "\n",
        "delta_y= fov/NOP\n",
        "delta_x= fov/NOP\n",
        "#print(delta_x)\n",
        "\n",
        "tou= 1E-3\n",
        "#GMax_Min=  ## fixed tou\n",
        "GMax_x_y = NOP/ (Gamma*delta_x*tou*2*2)\n",
        "#######################################################3 CHHAANGEE ********************###############\n",
        "delta_t_fe= 1/Acq_bdw\n",
        "delta_z= fov/NOP\n",
        "G_z= 1/ (Gamma*delta_z*delta_t_fe*2)\n",
        "\n",
        "\n",
        "g1s = 0 # start time gradient1\n",
        "g1e = tou # end time gradient1\n",
        "g2s = tou # start time gradient 2\n",
        "g2e = tou*2\n",
        "g3s = tou*2\n",
        "g3e = tou*2+delta_t_fe*NOP\n",
        "g1max = GMax_x_y\n",
        "g2max = GMax_x_y\n",
        "g3 = G_z\n",
        "print(G_z)\n",
        "Delta_T = delta_t_fe"
      ]
    },
    {
      "cell_type": "markdown",
      "source": [
        "Declare Functions"
      ],
      "metadata": {
        "id": "PMb94A1UYDa1"
      }
    },
    {
      "cell_type": "code",
      "execution_count": null,
      "metadata": {
        "id": "PZVX3Fm1kH-m"
      },
      "outputs": [],
      "source": [
        "def create_spherical_region(parameters, center , radius, phantom): \n",
        "  '''\n",
        "    Changes the \"parameters\" passed as [Rho, T1, T2] values of all voxels \n",
        "    within R \"radius\" sphere from the \"center\" passed as [Cx,Cy,Cz] in the phantom\n",
        "  '''\n",
        "  if phantom.shape[0]==phantom.shape[1]==phantom.shape[2]:\n",
        "    dimensions =  phantom.shape[0]\n",
        "  else:\n",
        "    dimensions = 1\n",
        "\n",
        "  [Cx, Cy, Cz] = center\n",
        "\n",
        "  minX = max(0, Cx-radius)\n",
        "  maxX = min(Cx+radius, dimensions-1)\n",
        "  minY = max(0, Cy-radius)\n",
        "  maxY = min(Cy+radius, dimensions-1)\n",
        "  minZ = max(0, Cz-radius)\n",
        "  maxZ = min(Cz+radius, dimensions-1)\n",
        "  \n",
        "  for i in range(minX,maxX):\n",
        "    for j in range(minY, maxY):\n",
        "      for k in range(minZ, maxZ):\n",
        "        if(radius**2 >= (Cx-i)**2+(Cy-j)**2+(Cz-k)**2):\n",
        "          phantom[i][j][k] = np.array(parameters)\n",
        "\n",
        "def initialize_phantom(dimensions, default_parameters):\n",
        "  '''\n",
        "    Creates a N*N*N 3D phantom with N as \"dimensions\", implemented as numpy ndarray\n",
        "    \n",
        "    \"default_parameters\" a list of [Rho, T1, T2] is used to initialize each voxel of this phantom\n",
        "  '''\n",
        "  return np.full((dimensions,dimensions,dimensions,3), default_parameters)\n",
        "\n",
        "\n",
        "def create_cubical_region(parameters, center , radius, phantom): \n",
        "  '''\n",
        "    Changes the \"parameters\" passed as [Rho, T1, T2] values of all voxels \n",
        "    within R \"radius\" sphere from the \"center\" passed as [Cx,Cy,Cz] in the phantom\n",
        "  '''\n",
        "  if phantom.shape[0]==phantom.shape[1]==phantom.shape[2]:\n",
        "    dimensions =  phantom.shape[0]\n",
        "  else:\n",
        "    dimensions = 1\n",
        "\n",
        "  [Cx, Cy, Cz] = center\n",
        "\n",
        "  minX = max(0, Cx-radius)\n",
        "  maxX = min(Cx+radius, dimensions-1)\n",
        "  minY = max(0, Cy-radius)\n",
        "  maxY = min(Cy+radius, dimensions-1)\n",
        "  minZ = max(0, Cz-radius)\n",
        "  maxZ = min(Cz+radius, dimensions-1)\n",
        "  \n",
        "  for i in range(minX,maxX):\n",
        "    for j in range(minY, maxY):\n",
        "      for k in range(minZ, maxZ):\n",
        "        phantom[i][j][k] = np.array(parameters)\n",
        "\n",
        "\n",
        "def InitializeMagnetizationMatrix(dimentions, phantom, B0):\n",
        "  res= np.full((dimentions,dimentions,dimentions, 3), [0., 0., 0.])\n",
        "  for i in range(dimentions):\n",
        "    for j in range(dimentions):\n",
        "      for k in range(dimentions):\n",
        "        res[i][j][k][2]= 0.00325*(phantom[i][j][k][0])# (3.25E-3)*(phantom[i][j][k][0])\n",
        "  return res\n",
        "\n",
        "def pulse(flip_angle, MagMat, axis): #if axis=x magnetization flips into y and vice versa\n",
        "  dimentions= np.shape(MagMat)[0]\n",
        "  if(axis=='x'):\n",
        "    for i in range(dimentions):\n",
        "      for j in range(dimentions):\n",
        "        for k in range(dimentions):\n",
        "          MagMat[i][j][k][0]= math.sin(math.radians(flip_angle))*MagMat[i][j][k][2]\n",
        "          MagMat[i][j][k][2]= math.cos(math.radians(flip_angle))*MagMat[i][j][k][2]\n",
        "  elif(axis=='y'):\n",
        "    for i in range(dimentions):\n",
        "      for j in range(dimentions):\n",
        "        for k in range(dimentions):\n",
        "          MagMat[i][j][k][1]= math.sin(math.radians(flip_angle))*MagMat[i][j][k][2]\n",
        "          MagMat[i][j][k][2]= math.cos(math.radians(flip_angle))*MagMat[i][j][k][2]\n",
        "  else:\n",
        "    print(\"Invalid axis of rotation for pulse\")\n",
        "\n",
        "def SumMagnetizationOverSample(MagMat):\n",
        "  return np.apply_over_axes(np.sum, MagMat, [0, 1, 2])\n",
        "\n",
        "\n",
        "\n",
        "\n",
        "def CalculateRotationMatrixZ(B, Gamma,  Delta_T):\n",
        "  theta = Gamma*B*Delta_T\n",
        "  return np.array([[math.cos(theta), -math.sin(theta), 0],[math.sin(theta), math.cos(theta), 0], [0,0,1]])\n",
        "\n",
        "\n",
        "def rotateAcrossAxisZRelax(B0, M, B, Gamma, Delta_T, params, T):\n",
        "  #params: Rho, T1, T2\n",
        "  T1, T2 = params[1], params[2]\n",
        "  rho= params[0]\n",
        "  count= int(T/Delta_T)\n",
        "  evolution_of_m= np.zeros((count, 3))\n",
        "  rot= CalculateRotationMatrixZ(B, Gamma, Delta_T)\n",
        "  ## Magnetization from proton density\n",
        "  ## Check reference:  https://radiopaedia.org/articles/dependence-of-magnetisation-proton-density-field-strength-and-temperature\n",
        "  ## M0 = (γ2 h2 B0 Ntotal) / (16 π2 kT) #### M0 = 1.177*B0*Ntotal for Hydrogen\n",
        "  M0= 3.25E-3*rho*B0\n",
        "  ## dMz/dt= M0-Mz/T1 \n",
        "  i=0\n",
        "  while(count>0):\n",
        "    M=np.matmul(rot, M)\n",
        "    Delta_M= np.array([-M[0]/T2*Delta_T, -M[1]/T2*Delta_T, (M0-M[2])/T1*Delta_T])\n",
        "    M= np.add(M, Delta_M)\n",
        "    evolution_of_m[i]=M\n",
        "    count=count-1\n",
        "    i=i+1\n",
        "  return evolution_of_m\n",
        "\n",
        "\n",
        "def rotateAcrossAxisZRF(B0, M, B, Gamma, Delta_T, params, T):\n",
        "  \n",
        "  #params: Rho, T1, T2\n",
        "  #print(\"O\", M)\n",
        "  T1, T2 = params[1], params[2]\n",
        "  rho= params[0]\n",
        "  count= int(T/Delta_T)\n",
        "  rot= CalculateRotationMatrixZ(B, Gamma, Delta_T)\n",
        "  ## Magnetization from proton density\n",
        "  ## Check reference:  https://radiopaedia.org/articles/dependence-of-magnetisation-proton-density-field-strength-and-temperature\n",
        "  ## M0 = (γ2 h2 B0 Ntotal) / (16 π2 kT) #### M0 = 1.177*B0*Ntotal for Hydrogen\n",
        "  M0= 3.25E-3*rho*B0\n",
        "  ## dMz/dt= M0-Mz/T1 \n",
        "  i=0\n",
        "  while(count>0):\n",
        "    M=np.matmul(rot, M)\n",
        "    Delta_M= np.array([-M[0]/T2*Delta_T, -M[1]/T2*Delta_T, (M0-M[2])/T1*Delta_T])\n",
        "    M= np.add(M, Delta_M)\n",
        "    count=count-1\n",
        "    i=i+1\n",
        "  #print(M)\n",
        "  return M\n",
        "\n",
        "def rotateAcrossAxisZRelaxFinal(B0, M, B, Gamma, Delta_T, params, T):\n",
        "  \n",
        "  #params: Rho, T1, T2\n",
        "  #print(\"O\", M)\n",
        "  T1, T2 = params[1], params[2]\n",
        "  rho= params[0]\n",
        "  rot= CalculateRotationMatrixZ(B, Gamma, T)\n",
        "  ## Magnetization from proton density\n",
        "  ## Check reference:  https://radiopaedia.org/articles/dependence-of-magnetisation-proton-density-field-strength-and-temperature\n",
        "  ## M0 = (γ2 h2 B0 Ntotal) / (16 π2 kT) #### M0 = 1.177*B0*Ntotal for Hydrogen\n",
        "  M0= 3.25E-3*rho*B0\n",
        "  ## dMz/dt= M0-Mz/T1 \n",
        "\n",
        "  M=np.matmul(rot, M)\n",
        "  Delta_M= np.array([-M[0]/T2*T, -M[1]/T2*T, (M0-M[2])/T1*T])\n",
        "  M= np.add(M, Delta_M)\n",
        "  #print(M)\n",
        "  return M\n",
        "\n",
        "def apply_gradient(phantom, Gamma, axis, gradient, Delta_T, T, MagMat, B0, delta_x, delta_y, delta_z):\n",
        "  if(T==0.0):\n",
        "    return\n",
        "  dim= len(MagMat)\n",
        "  \n",
        "  #print(min_b)#####\n",
        "  if(T==0):\n",
        "    return\n",
        "  for i in range(dim):\n",
        "    if(axis=='x'):\n",
        "      max_b= gradient*((dim-1)/2)*delta_x\n",
        "      min_b= -gradient*((dim-1)/2)*delta_x\n",
        "      B=min_b+i*gradient*delta_x\n",
        "      #print(B)#####\n",
        "    for j in range(dim):\n",
        "      if(axis=='y'):\n",
        "        max_b= gradient*((dim-1)/2)*delta_y\n",
        "        min_b= -gradient*((dim-1)/2)*delta_y\n",
        "        B=min_b+j*gradient*delta_y\n",
        "      for k in range(dim):\n",
        "        if(axis=='z'):\n",
        "          max_b= gradient*((dim-1)/2)*delta_z\n",
        "          min_b= -gradient*((dim-1)/2)*delta_z\n",
        "          B=min_b+k*gradient*delta_z\n",
        "        #print(B0, MagMat[i][j][k], B, Gamma, Delta_T, phantom[i][j][k], T)\n",
        "        MagMat[i][j][k]=rotateAcrossAxisZRelaxFinal(B0, MagMat[i][j][k], B, Gamma, Delta_T, phantom[i][j][k], T)\n",
        "        #print(MagMat[i][j][k])\n",
        "\n",
        "\n",
        "def plott(slice):\n",
        "# Creating arrow\n",
        "  x = []\n",
        "  y = []\n",
        "\n",
        "  u=[]\n",
        "  v=[]\n",
        "  for i in range(len(slice)):\n",
        "    for j in range(len(slice[0])):\n",
        "      u.append(slice[i][j][0])\n",
        "      v.append(slice[i][j][1])\n",
        "      x.append(i)\n",
        "      y.append(j)\n",
        "\n",
        "  #X, Y = np.meshgrid(x, y)\n",
        "\n",
        " \n",
        "# creating plot\n",
        "  fig, ax = plt.subplots(figsize =(11, 11))\n",
        "  ax.quiver(x, y, u, v)\n",
        " \n",
        "  ax.xaxis.set_ticks([])\n",
        "  ax.yaxis.set_ticks([])\n",
        "  #ax.axis([-0.3, 2.3, -0.3, 2.3])\n",
        "  ax.set_aspect('equal')\n",
        "  plt.savefig(\"magvec\")\n",
        "# show plot\n",
        "  plt.show()\n",
        "def sequence1(phantom, g1s, g1e, g1, g2s, g2e, g2, g3s, g3e, g3, B0, KSpace, i, j, MagMat, Delta_T, delta_x, delta_y, delta_z):\n",
        "  dimentions= len(phantom)\n",
        "  #plott(MagMat[1])\n",
        "  apply_gradient(phantom, Gamma, 'z', 0, Delta_T, g1s-0, MagMat, B0, delta_x, delta_y, delta_z) # relaxation before gradient1\n",
        "  apply_gradient(phantom, Gamma, 'x', g1, Delta_T, g1e-g1s, MagMat, B0, delta_x, delta_y, delta_z) # relaxation during gradient1\n",
        "  #print(g1)\n",
        "\n",
        "  if(i==-1):\n",
        "    plott(MagMat[int(dimentions/2)])\n",
        "    ind=int(dimentions/2)\n",
        "    img=np.zeros((dimentions, dimentions, 3))\n",
        "    for i in range(len(phantom)):\n",
        "      for j in range(len(phantom)):\n",
        "        for k in range(len(phantom)):\n",
        "          if(j==ind):\n",
        "            img[i][k]=MagMat[i][j][k]\n",
        "    plott(img)\n",
        "    img=np.zeros((dimentions, dimentions, 3))\n",
        "    for i in range(len(phantom)):\n",
        "      for j in range(len(phantom)):\n",
        "        for k in range(len(phantom)):\n",
        "          if(k==ind):\n",
        "            img[i][j]=MagMat[i][j][k]\n",
        "    plott(img)\n",
        "    return\n",
        "  \n",
        "  ####\n",
        "  apply_gradient(phantom, Gamma, 'z', 0, Delta_T, g2s-g1e, MagMat, B0, delta_x, delta_y, delta_z) #relaxation bw gradient1 and gradient2\n",
        "  apply_gradient(phantom, Gamma, 'y', g2, Delta_T, g2e-g2s, MagMat, B0, delta_x, delta_y, delta_z) # relaxation during gradient2\n",
        "  #plott(MagMat[1])\n",
        "  apply_gradient(phantom, Gamma, 'z', 0, Delta_T, g3s-g2e, MagMat, B0, delta_x, delta_y, delta_z) #relaxation bw gradient2 and gradient3\n",
        "  apply_gradient(phantom, Gamma, 'z', -g3/2, Delta_T, (g3e-g3s), MagMat, B0, delta_x, delta_y, delta_z) #reverse gradient to move left in k space before sampling\n",
        "  timestep_g3= (g3e-g3s)/(dimentions-1.0)\n",
        "  for k in range(dimentions): \n",
        "    #####\n",
        "    #if(i==1 and j==1):\n",
        "      #plott(MagMat[0])\n",
        "      #plott(MagMat[1])\n",
        "      #print(MagMat[1])\n",
        "      #plott(MagMat[2])\n",
        "      #print(g1, g2, g3)\n",
        "      #return\n",
        "    ####\n",
        "    KSpace[i][j][k]= SumMagnetizationOverSample(MagMat)\n",
        "    apply_gradient(phantom, Gamma, 'z', g3, Delta_T, timestep_g3, MagMat, B0, delta_x, delta_y, delta_z)\n",
        "\n",
        "    \n",
        "    #print(\"completed 1 0f 1000\")\n",
        "  #plott(MagMat[1])\n",
        "\n",
        "\n",
        "\n",
        "\n",
        "def seq(phantom, flip_angle, g1s, g1e, g1max, g2s, g2e, g2max, g3s, g3e, g3, B0, Delta_T, KSpace, delta_x, delta_y, delta_z):\n",
        "  dimentions = len(phantom)\n",
        "  #print(MagMat)\n",
        "  x_gr_step= (2.0*g1max)/(dimentions-1.0)\n",
        "  y_gr_step= (2.0*g2max)/(dimentions-1.0)\n",
        "  for i in range(dimentions):\n",
        "    for j in range(dimentions):\n",
        "      MagMat= InitializeMagnetizationMatrix(dimentions, phantom, B0)\n",
        "      pulse(flip_angle, MagMat, \"x\")\n",
        "      #print(MagMat[1][1][1])\n",
        "      sequence1(phantom, g1s, g1e, g1max-i*x_gr_step, g2s, g2e, g2max-j*y_gr_step, g3s, g3e, g3, B0, KSpace, i, j, MagMat, Delta_T, delta_x, delta_y, delta_z)\n",
        "      if(i==-1):\n",
        "        return\n",
        "      ##\n",
        "      #if(i==1 and j==1):\n",
        "      #  return\n",
        "      #print(\"completed 1 of 100\")\n",
        "  #return KSpace\n",
        "\n"
      ]
    },
    {
      "cell_type": "code",
      "source": [
        "def calculateEMFgrid (M_grid, KB1xy=1, Omega = Gamma*B0, Vs=Vs):\n",
        "  '''\n",
        "    M_grid = Magnetization Mx, My, Mz of each voxel in M_grid\n",
        "    Vs = Sample Volume = Volume of phantom\n",
        "  '''\n",
        "  K_space = np.zeros(shape = M_grid.shape[:-1])\n",
        "  for i in range(len(M_grid)):\n",
        "    for j in range(len(M_grid[0])):\n",
        "      for k in range(len(M_grid[0][0])):\n",
        "        Sigma_M = M_grid[i][j][k]\n",
        "        Mxy_mag = math.sqrt(Sigma_M[0]**2+Sigma_M[1]**2)\n",
        "        K_space[i][j][k] = KB1xy*Omega*Mxy_mag*Vs\n",
        "  return K_space\n",
        "\n",
        "def White_noise_matrix_adder(K_space, R=R, bandwith=Acq_bdw, k=boltz_c, Tc = temp_sample):\n",
        "  mean = 0\n",
        "  std = math.sqrt(4*k*Tc*bandwith*R)\n",
        "  return np.random.normal(mean, std, size = np.prod(K_space.shape)).reshape(K_space.shape) + K_space\n",
        "\n",
        "def InverseFourierTransform(K_space):\n",
        "  ifft = np.fft.ifftn(K_space)\n",
        "  ifft_shift = np.fft.fftshift(ifft)\n",
        "  return ifft_shift\n",
        "\n",
        "def InverseFourierTransform2D(K_space):\n",
        "  ifft = []\n",
        "  ifft_shift = []\n",
        "  for i in range(len(K_space)):\n",
        "    ifft.append(np.fft.ifft2(K_space[i]))\n",
        "    ifft_shift.append(np.fft.fftshift(ifft[i]))\n",
        "  return np.array(ifft_shift)\n",
        "\n",
        "\n",
        "def imgFromKSpace(KSpace):\n",
        "  \"\"\"\n",
        "    K-space should be path to a .npy sequence\n",
        "  \"\"\"\n",
        "  print(\"-----LOADING K-SPACE-----\")\n",
        "  K_space = KSpace\n",
        "  print(\"Min, Max and Avg values of elements in loaded K_space \")\n",
        "  print(np.min(K_space),\" \",np.max(K_space),\" \",np.average(K_space),\"\\n\")\n",
        "  \n",
        "  print(\"-----CALCULATING INDUCED VOLTAGE AS IN K-SPACE-----\")\n",
        "  K_spaceV = calculateEMFgrid(K_space)\n",
        "  print(\"Min, Max and Avg values of elements in Induced Voltage K_space \")\n",
        "  print(np.min(K_spaceV),\" \",np.max(K_spaceV),\" \",np.average(K_spaceV),\"\\n\")\n",
        "  \n",
        "  print(\"-----ADDING NOISE TO INDUCED VOLTAGE K-SPACE-----\")\n",
        "  K_spaceN = White_noise_matrix_adder(K_spaceV)\n",
        "  print(\"Min, Max and Avg values of elements in Induced Voltage K_space with Noise \")\n",
        "  print(np.min(K_spaceN),\" \",np.max(K_spaceN),\" \",np.average(K_spaceN),\"\\n\")\n",
        "\n",
        "  print(\"Noise matrix min, max, std \", np.min(K_spaceN-K_spaceV),\" \",np.max(K_spaceN-K_spaceV),\" \",np.std(K_spaceN-K_spaceV),\"\\n\")\n",
        "  \n",
        "  print(\"-----APPLYING INVERSE FOURIER TRANSFORM ON RESULTANT K-SPACE WITHOUT NOISE-----\")\n",
        "  ifft = InverseFourierTransform(K_spaceV)\n",
        "  print(\"-----PLOTTING IMAGES W/O NOISE-----\")\n",
        "  for i in range(len(K_space)):\n",
        "    im = np.abs(ifft[i])\n",
        "    plt.imshow(im, cmap='gray',vmin=0, vmax=np.abs(np.max(ifft)))\n",
        "    plt.show()\n",
        "  print(\"\\n\\n\\n\\n\")\n",
        "\n",
        "  print(\"-----APPLYING INVERSE FOURIER TRANSFORM ON RESULTANT K-SPACE WITH NOISE-----\")\n",
        "  ifftN = InverseFourierTransform(K_spaceN)\n",
        "  print(\"-----PLOTTING IMAGES WITH NOISE-----\")\n",
        "  for i in range(len(K_space)):\n",
        "    imN = np.abs(ifftN[i])\n",
        "    plt.imshow(imN, cmap='gray',vmin=0, vmax=np.abs(np.max(ifft)))\n",
        "    plt.show()\n",
        "  print(\"\\n\\n\\n\\n\")"
      ],
      "metadata": {
        "id": "7gGUybswRn4x"
      },
      "execution_count": null,
      "outputs": []
    },
    {
      "cell_type": "markdown",
      "source": [
        "Main"
      ],
      "metadata": {
        "id": "M0I3LPgZi8LF"
      }
    },
    {
      "cell_type": "code",
      "source": [
        "#Intialize Phantoms\n",
        "phantomFull = initialize_phantom(NOP, csf_params)\n",
        "phantomCenter = initialize_phantom(NOP, newparams)\n",
        "phantomCenter[5][5][5] = [1, 4.5, 2.2]"
      ],
      "metadata": {
        "id": "xs380J5x1OHv"
      },
      "execution_count": null,
      "outputs": []
    },
    {
      "cell_type": "code",
      "execution_count": null,
      "metadata": {
        "id": "90jpSxqN8zLI"
      },
      "outputs": [],
      "source": [
        "#Intialize Phantom\n",
        "phantom = initialize_phantom(NOP, newparams)\n",
        "#create_spherical_region(wm_params,[5,5,5],2, phantom)\n",
        "phantom[5][5][5]= [1e-9, 4.5, 2.2]\n",
        "#phantom[6][5][5]= wm_params\n",
        "#print(phantom[4, 4, 4])\n",
        "\n",
        "#Generate KSpace\n",
        "KSpace= np.zeros((NOP, NOP, NOP, 3))\n",
        "seq(phantom, flip_angle, g1s, g1e, g1max, g2s, g2e, g2max, g3s, g3e, g3, B0, Delta_T, KSpace, delta_x, delta_y, delta_z)"
      ]
    },
    {
      "cell_type": "code",
      "execution_count": null,
      "metadata": {
        "colab": {
          "base_uri": "https://localhost:8080/",
          "height": 336
        },
        "id": "_tTEKENnYdDk",
        "outputId": "087d143c-a79a-47cb-b201-9534fbfb2726"
      },
      "outputs": [
        {
          "output_type": "stream",
          "name": "stdout",
          "text": [
            "(11, 11, 11, 3)\n",
            "3.245422602970041e-06\n",
            "3.2438002567299216e-06\n"
          ]
        },
        {
          "output_type": "execute_result",
          "data": {
            "text/plain": [
              "<matplotlib.image.AxesImage at 0x7ff3bbec5ed0>"
            ]
          },
          "metadata": {},
          "execution_count": 5
        },
        {
          "output_type": "display_data",
          "data": {
            "text/plain": [
              "<Figure size 432x288 with 1 Axes>"
            ],
            "image/png": "[encoded data removed]"
          },
          "metadata": {
            "needs_background": "light"
          }
        }
      ],
      "source": [
        "#Show KSpace\n",
        "print(KSpace.shape)\n",
        "img=[]\n",
        "for i in range(len(phantom)):\n",
        "  img.append([])\n",
        "  for j in range(len(phantom)):\n",
        "    img[i].append([])\n",
        "    for k in range(len(phantom)):\n",
        "      img[i][j].append(math.sqrt(KSpace[i][j][k][0]*KSpace[i][j][k][0]+KSpace[i][j][k][1]*KSpace[i][j][k][1]))\n",
        "\n",
        "\n",
        "img= np.array(img)\n",
        "#print(img)\n",
        "#print(img.shape)\n",
        "import matplotlib.pyplot as plt\n",
        "#print(np.max(img[5]))\n",
        "print(np.max(img))\n",
        "print(np.min(img))\n",
        "plt.imshow(img[5], cmap='gray', vmin=0, vmax= np.max(img)) #6th (center) slice of KSpace"
      ]
    },
    {
      "cell_type": "code",
      "execution_count": null,
      "metadata": {
        "id": "8Mz-Y9DmsG7N"
      },
      "outputs": [],
      "source": [
        "#Save KSpace in G-Drive\n",
        "#filename = \"/content/drive/MyDrive/MTP/ksp_sphere\"\n",
        "#np.save(filename, KSpace)"
      ]
    },
    {
      "cell_type": "code",
      "execution_count": null,
      "metadata": {
        "colab": {
          "base_uri": "https://localhost:8080/",
          "height": 301
        },
        "id": "6CIlW8lUZ9i8",
        "outputId": "31fe297e-b967-4837-e5b5-a393e3b034f5"
      },
      "outputs": [
        {
          "output_type": "stream",
          "name": "stdout",
          "text": [
            "(11, 11, 11, 3)\n"
          ]
        },
        {
          "output_type": "execute_result",
          "data": {
            "text/plain": [
              "<matplotlib.image.AxesImage at 0x7ff3b6579410>"
            ]
          },
          "metadata": {},
          "execution_count": 6
        },
        {
          "output_type": "display_data",
          "data": {
            "text/plain": [
              "<Figure size 432x288 with 1 Axes>"
            ],
            "image/png": "[encoded data removed]"
          },
          "metadata": {
            "needs_background": "light"
          }
        }
      ],
      "source": [
        "#KSpace from Z-direction 6th Sheet\n",
        "ind= 5\n",
        "print(phantom.shape)\n",
        "img=np.zeros((len(phantom), len(phantom)))\n",
        "for i in range(len(phantom)):\n",
        "  for j in range(len(phantom)):\n",
        "    for k in range(len(phantom)):\n",
        "      if(k==ind):\n",
        "        img[i][j]= math.sqrt(KSpace[i][j][k][0]*KSpace[i][j][k][0]+KSpace[i][j][k][1]*KSpace[i][j][k][1])\n",
        "\n",
        "plt.imshow(img, cmap='gray')"
      ]
    },
    {
      "cell_type": "code",
      "execution_count": null,
      "metadata": {
        "colab": {
          "base_uri": "https://localhost:8080/",
          "height": 319
        },
        "id": "KBjQiipZx2zt",
        "outputId": "7b8db177-dfa8-4ff7-83a0-fd36e845c447"
      },
      "outputs": [
        {
          "output_type": "stream",
          "name": "stdout",
          "text": [
            "(11, 11, 11, 3)\n",
            "(11, 11, 11)\n"
          ]
        },
        {
          "output_type": "execute_result",
          "data": {
            "text/plain": [
              "<matplotlib.image.AxesImage at 0x7ff3b64e5ad0>"
            ]
          },
          "metadata": {},
          "execution_count": 7
        },
        {
          "output_type": "display_data",
          "data": {
            "text/plain": [
              "<Figure size 432x288 with 1 Axes>"
            ],
            "image/png": "[encoded data removed]"
          },
          "metadata": {
            "needs_background": "light"
          }
        }
      ],
      "source": [
        "#Shows phantom\n",
        "print(phantom.shape)\n",
        "img=[]\n",
        "for i in range(len(phantom)):\n",
        "  img.append([])\n",
        "  for j in range(len(phantom)):\n",
        "    img[i].append([])\n",
        "    for k in range(len(phantom)):\n",
        "      img[i][j].append(math.sqrt(phantom[i][j][k][0]*phantom[i][j][k][0]))\n",
        "\n",
        "img= np.array(img)\n",
        "print(img.shape)\n",
        "import matplotlib.pyplot as plt\n",
        "plt.imshow(img[4], cmap='gray')"
      ]
    },
    {
      "cell_type": "code",
      "source": [
        "imgFromKSpace(KSpace)"
      ],
      "metadata": {
        "colab": {
          "base_uri": "https://localhost:8080/",
          "height": 1000
        },
        "id": "lkeRWJaRSVye",
        "outputId": "00bd4398-7ef4-45b1-e809-164251f8f4cd"
      },
      "execution_count": null,
      "outputs": [
        {
          "output_type": "stream",
          "name": "stdout",
          "text": [
            "-----LOADING K-SPACE-----\n",
            "Min, Max and Avg values of elements in loaded K_space \n",
            "0.0   3.245422602970041e-10   1.0824155546310732e-10 \n",
            "\n",
            "-----CALCULATING INDUCED VOLTAGE AS IN K-SPACE-----\n",
            "Min, Max and Avg values of elements in Induced Voltage K_space \n",
            "1.8478892046508208e-08   1.848813403388737e-08   1.84835126936146e-08 \n",
            "\n",
            "-----ADDING NOISE TO INDUCED VOLTAGE K-SPACE-----\n",
            "Min, Max and Avg values of elements in Induced Voltage K_space with Noise \n",
            "-7.626857694270837e-09   4.744477277701663e-08   1.8792362668034722e-08 \n",
            "\n",
            "Noise matrix min, max, std  -2.6111294378664196e-08   2.8964956739706555e-08   9.199130359496753e-09 \n",
            "\n",
            "-----APPLYING INVERSE FOURIER TRANSFORM ON RESULTANT K-SPACE WITHOUT NOISE-----\n",
            "-----PLOTTING IMAGES W/O NOISE-----\n"
          ]
        },
        {
          "output_type": "display_data",
          "data": {
            "text/plain": [
              "<Figure size 432x288 with 1 Axes>"
            ],
            "image/png": "[encoded data removed]"
          },
          "metadata": {
            "needs_background": "light"
          }
        },
        {
          "output_type": "display_data",
          "data": {
            "text/plain": [
              "<Figure size 432x288 with 1 Axes>"
            ],
            "image/png": "[encoded data removed]"
          },
          "metadata": {
            "needs_background": "light"
          }
        },
        {
          "output_type": "display_data",
          "data": {
            "text/plain": [
              "<Figure size 432x288 with 1 Axes>"
            ],
            "image/png": "[encoded data removed]"
          },
          "metadata": {
            "needs_background": "light"
          }
        },
        {
          "output_type": "display_data",
          "data": {
            "text/plain": [
              "<Figure size 432x288 with 1 Axes>"
            ],
            "image/png": "[encoded data removed]"
          },
          "metadata": {
            "needs_background": "light"
          }
        },
        {
          "output_type": "display_data",
          "data": {
            "text/plain": [
              "<Figure size 432x288 with 1 Axes>"
            ],
            "image/png": "[encoded data removed]"
          },
          "metadata": {
            "needs_background": "light"
          }
        },
        {
          "output_type": "display_data",
          "data": {
            "text/plain": [
              "<Figure size 432x288 with 1 Axes>"
            ],
            "image/png": "[encoded data removed]"
          },
          "metadata": {
            "needs_background": "light"
          }
        },
        {
          "output_type": "display_data",
          "data": {
            "text/plain": [
              "<Figure size 432x288 with 1 Axes>"
            ],
            "image/png": "[encoded data removed]"
          },
          "metadata": {
            "needs_background": "light"
          }
        },
        {
          "output_type": "display_data",
          "data": {
            "text/plain": [
              "<Figure size 432x288 with 1 Axes>"
            ],
            "image/png": "[encoded data removed]"
          },
          "metadata": {
            "needs_background": "light"
          }
        },
        {
          "output_type": "display_data",
          "data": {
            "text/plain": [
              "<Figure size 432x288 with 1 Axes>"
            ],
            "image/png": "[encoded data removed]"
          },
          "metadata": {
            "needs_background": "light"
          }
        },
        {
          "output_type": "display_data",
          "data": {
            "text/plain": [
              "<Figure size 432x288 with 1 Axes>"
            ],
            "image/png": "[encoded data removed]"
          },
          "metadata": {
            "needs_background": "light"
          }
        },
        {
          "output_type": "display_data",
          "data": {
            "text/plain": [
              "<Figure size 432x288 with 1 Axes>"
            ],
            "image/png": "[encoded data removed]"
          },
          "metadata": {
            "needs_background": "light"
          }
        },
        {
          "output_type": "stream",
          "name": "stdout",
          "text": [
            "\n",
            "\n",
            "\n",
            "\n",
            "\n",
            "-----APPLYING INVERSE FOURIER TRANSFORM ON RESULTANT K-SPACE WITH NOISE-----\n",
            "-----PLOTTING IMAGES WITH NOISE-----\n"
          ]
        },
        {
          "output_type": "display_data",
          "data": {
            "text/plain": [
              "<Figure size 432x288 with 1 Axes>"
            ],
            "image/png": "[encoded data removed]"
          },
          "metadata": {
            "needs_background": "light"
          }
        },
        {
          "output_type": "display_data",
          "data": {
            "text/plain": [
              "<Figure size 432x288 with 1 Axes>"
            ],
            "image/png": "[encoded data removed]"
          },
          "metadata": {
            "needs_background": "light"
          }
        },
        {
          "output_type": "display_data",
          "data": {
            "text/plain": [
              "<Figure size 432x288 with 1 Axes>"
            ],
            "image/png": "[encoded data removed]"
          },
          "metadata": {
            "needs_background": "light"
          }
        },
        {
          "output_type": "display_data",
          "data": {
            "text/plain": [
              "<Figure size 432x288 with 1 Axes>"
            ],
            "image/png": "[encoded data removed]"
          },
          "metadata": {
            "needs_background": "light"
          }
        },
        {
          "output_type": "display_data",
          "data": {
            "text/plain": [
              "<Figure size 432x288 with 1 Axes>"
            ],
            "image/png": "[encoded data removed]"
          },
          "metadata": {
            "needs_background": "light"
          }
        },
        {
          "output_type": "display_data",
          "data": {
            "text/plain": [
              "<Figure size 432x288 with 1 Axes>"
            ],
            "image/png": "[encoded data removed]"
          },
          "metadata": {
            "needs_background": "light"
          }
        },
        {
          "output_type": "display_data",
          "data": {
            "text/plain": [
              "<Figure size 432x288 with 1 Axes>"
            ],
            "image/png": "[encoded data removed]"
          },
          "metadata": {
            "needs_background": "light"
          }
        },
        {
          "output_type": "display_data",
          "data": {
            "text/plain": [
              "<Figure size 432x288 with 1 Axes>"
            ],
            "image/png": "[encoded data removed]"
          },
          "metadata": {
            "needs_background": "light"
          }
        },
        {
          "output_type": "display_data",
          "data": {
            "text/plain": [
              "<Figure size 432x288 with 1 Axes>"
            ],
            "image/png": "[encoded data removed]"
          },
          "metadata": {
            "needs_background": "light"
          }
        },
        {
          "output_type": "display_data",
          "data": {
            "text/plain": [
              "<Figure size 432x288 with 1 Axes>"
            ],
            "image/png": "[encoded data removed]"
          },
          "metadata": {
            "needs_background": "light"
          }
        },
        {
          "output_type": "display_data",
          "data": {
            "text/plain": [
              "<Figure size 432x288 with 1 Axes>"
            ],
            "image/png": "[encoded data removed]"
          },
          "metadata": {
            "needs_background": "light"
          }
        },
        {
          "output_type": "stream",
          "name": "stdout",
          "text": [
            "\n",
            "\n",
            "\n",
            "\n",
            "\n"
          ]
        }
      ]
    },
    {
      "cell_type": "markdown",
      "source": [
        "Experiment with varying B0 and Proton Density and its affect on noise"
      ],
      "metadata": {
        "id": "xEDuPEMo1JEu"
      }
    },
    {
      "cell_type": "code",
      "source": [
        "#temporary cell\n",
        "#Intialize Phantom\n",
        "phantom = initialize_phantom(NOP, newparams)\n",
        "#create_spherical_region(wm_params,[5,5,5],2, phantom)\n",
        "B0 = 0.0005\n",
        "phantom[5][5][5]= [5e-7, 4.5, 2.2]\n",
        "#phantom[6][5][5]= wm_params\n",
        "#print(phantom[4, 4, 4])\n",
        "\n",
        "#Generate KSpace\n",
        "KSpace= np.zeros((NOP, NOP, NOP, 3))\n",
        "seq(phantom, flip_angle, g1s, g1e, g1max, g2s, g2e, g2max, g3s, g3e, g3, B0, Delta_T, KSpace, delta_x, delta_y, delta_z)\n",
        "#imgFromKSpace(KSpace)\n",
        "#\"\"\"\n",
        "#Manually run imgFrom KSpace function\n",
        "print(\"-----LOADING K-SPACE-----\")\n",
        "K_space = KSpace\n",
        "print(\"Min, Max and Avg values of elements in loaded K_space \")\n",
        "print(np.min(K_space),\" \",np.max(K_space),\" \",np.average(K_space),\"\\n\")\n",
        "\n",
        "print(\"-----CALCULATING INDUCED VOLTAGE AS IN K-SPACE-----\")\n",
        "K_spaceV = calculateEMFgrid(K_space)\n",
        "print(\"Min, Max and Avg values of elements in Induced Voltage K_space \")\n",
        "print(np.min(K_spaceV),\" \",np.max(K_spaceV),\" \",np.average(K_spaceV),\"\\n\")\n",
        "  \n",
        "print(\"-----ADDING NOISE TO INDUCED VOLTAGE K-SPACE-----\")\n",
        "K_spaceN = White_noise_matrix_adder(K_spaceV)\n",
        "print(\"Min, Max and Avg values of elements in Induced Voltage K_space with Noise \")\n",
        "print(np.min(K_spaceN),\" \",np.max(K_spaceN),\" \",np.average(K_spaceN),\"\\n\")\n",
        "\n",
        "print(\"Noise matrix min, max, std \", np.min(K_spaceN-K_spaceV),\" \",np.max(K_spaceN-K_spaceV),\" \",np.std(K_spaceN-K_spaceV),\"\\n\")\n",
        "\n",
        "print(\"-----APPLYING INVERSE FOURIER TRANSFORM ON RESULTANT K-SPACE WITHOUT NOISE-----\")\n",
        "ifft = InverseFourierTransform(K_spaceV)\n",
        "print(\"-----PLOTTING IMAGES W/O NOISE-----\")\n",
        "for i in [0,5]:\n",
        "  im = np.abs(ifft[i])\n",
        "  plt.imshow(im, cmap='gray',vmin=0, vmax=np.max(np.abs(ifft)))\n",
        "  plt.show()\n",
        "  print(\"\\n\")\n",
        "print(\"\\n\\n\\n\\n\")\n",
        "\n",
        "print(\"-----APPLYING INVERSE FOURIER TRANSFORM ON RESULTANT K-SPACE WITH NOISE-----\")\n",
        "ifftN = InverseFourierTransform(K_spaceN)\n",
        "print(\"-----PLOTTING IMAGES WITH NOISE-----\")\n",
        "for i in [0,5]:\n",
        "  imN = np.abs(ifftN[i])\n",
        "  plt.imshow(imN, cmap='gray',vmin=0, vmax=np.max(np.abs(ifftN)))\n",
        "  plt.show()\n",
        "  print(\"\\n\")\n",
        "print(\"\\n\\n\\n\\n\")\n",
        "#\"\"\""
      ],
      "metadata": {
        "colab": {
          "base_uri": "https://localhost:8080/",
          "height": 1000
        },
        "id": "xI7lxYRy3tPk",
        "outputId": "cff72235-5933-439a-8356-152b84282246"
      },
      "execution_count": null,
      "outputs": [
        {
          "output_type": "stream",
          "name": "stdout",
          "text": [
            "-----LOADING K-SPACE-----\n",
            "Min, Max and Avg values of elements in loaded K_space \n",
            "0.0   1.6227113014850205e-09   5.407687811096531e-10 \n",
            "\n",
            "-----CALCULATING INDUCED VOLTAGE AS IN K-SPACE-----\n",
            "Min, Max and Avg values of elements in Induced Voltage K_space \n",
            "9.239446023254104e-08   9.244067016943687e-08   9.241756346807302e-08 \n",
            "\n",
            "-----ADDING NOISE TO INDUCED VOLTAGE K-SPACE-----\n",
            "Min, Max and Avg values of elements in Induced Voltage K_space with Noise \n",
            "6.194058705541684e-08   1.2053854426276818e-07   9.247683959265937e-08 \n",
            "\n",
            "Noise matrix min, max, std  -3.04538731771242e-08   2.8111739500563266e-08   8.888654067744868e-09 \n",
            "\n",
            "-----APPLYING INVERSE FOURIER TRANSFORM ON RESULTANT K-SPACE WITHOUT NOISE-----\n",
            "-----PLOTTING IMAGES W/O NOISE-----\n"
          ]
        },
        {
          "output_type": "display_data",
          "data": {
            "text/plain": [
              "<Figure size 432x288 with 1 Axes>"
            ],
            "image/png": "[encoded data removed]"
          },
          "metadata": {
            "needs_background": "light"
          }
        },
        {
          "output_type": "stream",
          "name": "stdout",
          "text": [
            "\n",
            "\n"
          ]
        },
        {
          "output_type": "display_data",
          "data": {
            "text/plain": [
              "<Figure size 432x288 with 1 Axes>"
            ],
            "image/png": "[encoded data removed]"
          },
          "metadata": {
            "needs_background": "light"
          }
        },
        {
          "output_type": "stream",
          "name": "stdout",
          "text": [
            "\n",
            "\n",
            "\n",
            "\n",
            "\n",
            "\n",
            "\n",
            "-----APPLYING INVERSE FOURIER TRANSFORM ON RESULTANT K-SPACE WITH NOISE-----\n",
            "-----PLOTTING IMAGES WITH NOISE-----\n"
          ]
        },
        {
          "output_type": "display_data",
          "data": {
            "text/plain": [
              "<Figure size 432x288 with 1 Axes>"
            ],
            "image/png": "[encoded data removed]"
          },
          "metadata": {
            "needs_background": "light"
          }
        },
        {
          "output_type": "stream",
          "name": "stdout",
          "text": [
            "\n",
            "\n"
          ]
        },
        {
          "output_type": "display_data",
          "data": {
            "text/plain": [
              "<Figure size 432x288 with 1 Axes>"
            ],
            "image/png": "[encoded data removed]"
          },
          "metadata": {
            "needs_background": "light"
          }
        },
        {
          "output_type": "stream",
          "name": "stdout",
          "text": [
            "\n",
            "\n",
            "\n",
            "\n",
            "\n",
            "\n",
            "\n"
          ]
        }
      ]
    }
  ],
  "metadata": {
    "colab": {
      "collapsed_sections": [],
      "name": "MTP-FB1",
      "provenance": [],
      "include_colab_link": true
    },
    "kernelspec": {
      "display_name": "Python 3",
      "name": "python3"
    },
    "language_info": {
      "name": "python"
    }
  },
  "nbformat": 4,
  "nbformat_minor": 0
}